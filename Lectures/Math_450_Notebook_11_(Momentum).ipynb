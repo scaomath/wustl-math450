{
  "nbformat": 4,
  "nbformat_minor": 0,
  "metadata": {
    "colab": {
      "name": "Math 450 Notebook 11 (Momentum).ipynb",
      "provenance": [],
      "collapsed_sections": [],
      "authorship_tag": "ABX9TyOnxpIZHzVKEtNwqpOQdaNh",
      "include_colab_link": true
    },
    "kernelspec": {
      "name": "python3",
      "display_name": "Python 3"
    },
    "language_info": {
      "name": "python"
    },
    "widgets": {
      "application/vnd.jupyter.widget-state+json": {
        "1053e080ef054cb78fcad908db2fe2fe": {
          "model_module": "@jupyter-widgets/controls",
          "model_name": "HBoxModel",
          "state": {
            "_view_name": "HBoxView",
            "_dom_classes": [],
            "_model_name": "HBoxModel",
            "_view_module": "@jupyter-widgets/controls",
            "_model_module_version": "1.5.0",
            "_view_count": null,
            "_view_module_version": "1.5.0",
            "box_style": "",
            "layout": "IPY_MODEL_0f7df71c9b9344b794b4db937c924109",
            "_model_module": "@jupyter-widgets/controls",
            "children": [
              "IPY_MODEL_21d38d1a8fa3406794e17b723888ef39",
              "IPY_MODEL_0c72648862dc40b0954a8b59ccc42653"
            ]
          }
        },
        "0f7df71c9b9344b794b4db937c924109": {
          "model_module": "@jupyter-widgets/base",
          "model_name": "LayoutModel",
          "state": {
            "_view_name": "LayoutView",
            "grid_template_rows": null,
            "right": null,
            "justify_content": null,
            "_view_module": "@jupyter-widgets/base",
            "overflow": null,
            "_model_module_version": "1.2.0",
            "_view_count": null,
            "flex_flow": null,
            "width": null,
            "min_width": null,
            "border": null,
            "align_items": null,
            "bottom": null,
            "_model_module": "@jupyter-widgets/base",
            "top": null,
            "grid_column": null,
            "overflow_y": null,
            "overflow_x": null,
            "grid_auto_flow": null,
            "grid_area": null,
            "grid_template_columns": null,
            "flex": null,
            "_model_name": "LayoutModel",
            "justify_items": null,
            "grid_row": null,
            "max_height": null,
            "align_content": null,
            "visibility": null,
            "align_self": null,
            "height": null,
            "min_height": null,
            "padding": null,
            "grid_auto_rows": null,
            "grid_gap": null,
            "max_width": null,
            "order": null,
            "_view_module_version": "1.2.0",
            "grid_template_areas": null,
            "object_position": null,
            "object_fit": null,
            "grid_auto_columns": null,
            "margin": null,
            "display": null,
            "left": null
          }
        },
        "21d38d1a8fa3406794e17b723888ef39": {
          "model_module": "@jupyter-widgets/controls",
          "model_name": "FloatProgressModel",
          "state": {
            "_view_name": "ProgressView",
            "style": "IPY_MODEL_4bafcebcac5846f9ac6779dfaee11873",
            "_dom_classes": [],
            "description": "epoch: [1/2] loss: 1.84: 100%",
            "_model_name": "FloatProgressModel",
            "bar_style": "success",
            "max": 250,
            "_view_module": "@jupyter-widgets/controls",
            "_model_module_version": "1.5.0",
            "value": 250,
            "_view_count": null,
            "_view_module_version": "1.5.0",
            "orientation": "horizontal",
            "min": 0,
            "description_tooltip": null,
            "_model_module": "@jupyter-widgets/controls",
            "layout": "IPY_MODEL_7b04cf20c98146698630d8ee5164b904"
          }
        },
        "0c72648862dc40b0954a8b59ccc42653": {
          "model_module": "@jupyter-widgets/controls",
          "model_name": "HTMLModel",
          "state": {
            "_view_name": "HTMLView",
            "style": "IPY_MODEL_f2adde4aa5f74821872ef7f2703ce10e",
            "_dom_classes": [],
            "description": "",
            "_model_name": "HTMLModel",
            "placeholder": "​",
            "_view_module": "@jupyter-widgets/controls",
            "_model_module_version": "1.5.0",
            "value": " 250/250 [00:21&lt;00:00, 11.72it/s]",
            "_view_count": null,
            "_view_module_version": "1.5.0",
            "description_tooltip": null,
            "_model_module": "@jupyter-widgets/controls",
            "layout": "IPY_MODEL_e3a54f4fdc7348c9829e3755bb201798"
          }
        },
        "4bafcebcac5846f9ac6779dfaee11873": {
          "model_module": "@jupyter-widgets/controls",
          "model_name": "ProgressStyleModel",
          "state": {
            "_view_name": "StyleView",
            "_model_name": "ProgressStyleModel",
            "description_width": "initial",
            "_view_module": "@jupyter-widgets/base",
            "_model_module_version": "1.5.0",
            "_view_count": null,
            "_view_module_version": "1.2.0",
            "bar_color": null,
            "_model_module": "@jupyter-widgets/controls"
          }
        },
        "7b04cf20c98146698630d8ee5164b904": {
          "model_module": "@jupyter-widgets/base",
          "model_name": "LayoutModel",
          "state": {
            "_view_name": "LayoutView",
            "grid_template_rows": null,
            "right": null,
            "justify_content": null,
            "_view_module": "@jupyter-widgets/base",
            "overflow": null,
            "_model_module_version": "1.2.0",
            "_view_count": null,
            "flex_flow": null,
            "width": null,
            "min_width": null,
            "border": null,
            "align_items": null,
            "bottom": null,
            "_model_module": "@jupyter-widgets/base",
            "top": null,
            "grid_column": null,
            "overflow_y": null,
            "overflow_x": null,
            "grid_auto_flow": null,
            "grid_area": null,
            "grid_template_columns": null,
            "flex": null,
            "_model_name": "LayoutModel",
            "justify_items": null,
            "grid_row": null,
            "max_height": null,
            "align_content": null,
            "visibility": null,
            "align_self": null,
            "height": null,
            "min_height": null,
            "padding": null,
            "grid_auto_rows": null,
            "grid_gap": null,
            "max_width": null,
            "order": null,
            "_view_module_version": "1.2.0",
            "grid_template_areas": null,
            "object_position": null,
            "object_fit": null,
            "grid_auto_columns": null,
            "margin": null,
            "display": null,
            "left": null
          }
        },
        "f2adde4aa5f74821872ef7f2703ce10e": {
          "model_module": "@jupyter-widgets/controls",
          "model_name": "DescriptionStyleModel",
          "state": {
            "_view_name": "StyleView",
            "_model_name": "DescriptionStyleModel",
            "description_width": "",
            "_view_module": "@jupyter-widgets/base",
            "_model_module_version": "1.5.0",
            "_view_count": null,
            "_view_module_version": "1.2.0",
            "_model_module": "@jupyter-widgets/controls"
          }
        },
        "e3a54f4fdc7348c9829e3755bb201798": {
          "model_module": "@jupyter-widgets/base",
          "model_name": "LayoutModel",
          "state": {
            "_view_name": "LayoutView",
            "grid_template_rows": null,
            "right": null,
            "justify_content": null,
            "_view_module": "@jupyter-widgets/base",
            "overflow": null,
            "_model_module_version": "1.2.0",
            "_view_count": null,
            "flex_flow": null,
            "width": null,
            "min_width": null,
            "border": null,
            "align_items": null,
            "bottom": null,
            "_model_module": "@jupyter-widgets/base",
            "top": null,
            "grid_column": null,
            "overflow_y": null,
            "overflow_x": null,
            "grid_auto_flow": null,
            "grid_area": null,
            "grid_template_columns": null,
            "flex": null,
            "_model_name": "LayoutModel",
            "justify_items": null,
            "grid_row": null,
            "max_height": null,
            "align_content": null,
            "visibility": null,
            "align_self": null,
            "height": null,
            "min_height": null,
            "padding": null,
            "grid_auto_rows": null,
            "grid_gap": null,
            "max_width": null,
            "order": null,
            "_view_module_version": "1.2.0",
            "grid_template_areas": null,
            "object_position": null,
            "object_fit": null,
            "grid_auto_columns": null,
            "margin": null,
            "display": null,
            "left": null
          }
        },
        "9f61027cec144a0f8ec8ee04763b7995": {
          "model_module": "@jupyter-widgets/controls",
          "model_name": "HBoxModel",
          "state": {
            "_view_name": "HBoxView",
            "_dom_classes": [],
            "_model_name": "HBoxModel",
            "_view_module": "@jupyter-widgets/controls",
            "_model_module_version": "1.5.0",
            "_view_count": null,
            "_view_module_version": "1.5.0",
            "box_style": "",
            "layout": "IPY_MODEL_4728a0f3c2c54946b03046cbdaf33073",
            "_model_module": "@jupyter-widgets/controls",
            "children": [
              "IPY_MODEL_fcff31916ccf4c4c9e7542e410973e53",
              "IPY_MODEL_123c656eaeed447c9c1d68eff8a483ce"
            ]
          }
        },
        "4728a0f3c2c54946b03046cbdaf33073": {
          "model_module": "@jupyter-widgets/base",
          "model_name": "LayoutModel",
          "state": {
            "_view_name": "LayoutView",
            "grid_template_rows": null,
            "right": null,
            "justify_content": null,
            "_view_module": "@jupyter-widgets/base",
            "overflow": null,
            "_model_module_version": "1.2.0",
            "_view_count": null,
            "flex_flow": null,
            "width": null,
            "min_width": null,
            "border": null,
            "align_items": null,
            "bottom": null,
            "_model_module": "@jupyter-widgets/base",
            "top": null,
            "grid_column": null,
            "overflow_y": null,
            "overflow_x": null,
            "grid_auto_flow": null,
            "grid_area": null,
            "grid_template_columns": null,
            "flex": null,
            "_model_name": "LayoutModel",
            "justify_items": null,
            "grid_row": null,
            "max_height": null,
            "align_content": null,
            "visibility": null,
            "align_self": null,
            "height": null,
            "min_height": null,
            "padding": null,
            "grid_auto_rows": null,
            "grid_gap": null,
            "max_width": null,
            "order": null,
            "_view_module_version": "1.2.0",
            "grid_template_areas": null,
            "object_position": null,
            "object_fit": null,
            "grid_auto_columns": null,
            "margin": null,
            "display": null,
            "left": null
          }
        },
        "fcff31916ccf4c4c9e7542e410973e53": {
          "model_module": "@jupyter-widgets/controls",
          "model_name": "FloatProgressModel",
          "state": {
            "_view_name": "ProgressView",
            "style": "IPY_MODEL_38080900ac214149b5145d9fc15ae9bc",
            "_dom_classes": [],
            "description": "epoch: [2/2] loss: 0.23: 100%",
            "_model_name": "FloatProgressModel",
            "bar_style": "success",
            "max": 250,
            "_view_module": "@jupyter-widgets/controls",
            "_model_module_version": "1.5.0",
            "value": 250,
            "_view_count": null,
            "_view_module_version": "1.5.0",
            "orientation": "horizontal",
            "min": 0,
            "description_tooltip": null,
            "_model_module": "@jupyter-widgets/controls",
            "layout": "IPY_MODEL_5a22aee35116407bae1fe521d33c75bd"
          }
        },
        "123c656eaeed447c9c1d68eff8a483ce": {
          "model_module": "@jupyter-widgets/controls",
          "model_name": "HTMLModel",
          "state": {
            "_view_name": "HTMLView",
            "style": "IPY_MODEL_3694b5c54aea4db2968a33036e197085",
            "_dom_classes": [],
            "description": "",
            "_model_name": "HTMLModel",
            "placeholder": "​",
            "_view_module": "@jupyter-widgets/controls",
            "_model_module_version": "1.5.0",
            "value": " 250/250 [00:15&lt;00:00, 16.55it/s]",
            "_view_count": null,
            "_view_module_version": "1.5.0",
            "description_tooltip": null,
            "_model_module": "@jupyter-widgets/controls",
            "layout": "IPY_MODEL_3ab17a6138114839b93f05738f0180f2"
          }
        },
        "38080900ac214149b5145d9fc15ae9bc": {
          "model_module": "@jupyter-widgets/controls",
          "model_name": "ProgressStyleModel",
          "state": {
            "_view_name": "StyleView",
            "_model_name": "ProgressStyleModel",
            "description_width": "initial",
            "_view_module": "@jupyter-widgets/base",
            "_model_module_version": "1.5.0",
            "_view_count": null,
            "_view_module_version": "1.2.0",
            "bar_color": null,
            "_model_module": "@jupyter-widgets/controls"
          }
        },
        "5a22aee35116407bae1fe521d33c75bd": {
          "model_module": "@jupyter-widgets/base",
          "model_name": "LayoutModel",
          "state": {
            "_view_name": "LayoutView",
            "grid_template_rows": null,
            "right": null,
            "justify_content": null,
            "_view_module": "@jupyter-widgets/base",
            "overflow": null,
            "_model_module_version": "1.2.0",
            "_view_count": null,
            "flex_flow": null,
            "width": null,
            "min_width": null,
            "border": null,
            "align_items": null,
            "bottom": null,
            "_model_module": "@jupyter-widgets/base",
            "top": null,
            "grid_column": null,
            "overflow_y": null,
            "overflow_x": null,
            "grid_auto_flow": null,
            "grid_area": null,
            "grid_template_columns": null,
            "flex": null,
            "_model_name": "LayoutModel",
            "justify_items": null,
            "grid_row": null,
            "max_height": null,
            "align_content": null,
            "visibility": null,
            "align_self": null,
            "height": null,
            "min_height": null,
            "padding": null,
            "grid_auto_rows": null,
            "grid_gap": null,
            "max_width": null,
            "order": null,
            "_view_module_version": "1.2.0",
            "grid_template_areas": null,
            "object_position": null,
            "object_fit": null,
            "grid_auto_columns": null,
            "margin": null,
            "display": null,
            "left": null
          }
        },
        "3694b5c54aea4db2968a33036e197085": {
          "model_module": "@jupyter-widgets/controls",
          "model_name": "DescriptionStyleModel",
          "state": {
            "_view_name": "StyleView",
            "_model_name": "DescriptionStyleModel",
            "description_width": "",
            "_view_module": "@jupyter-widgets/base",
            "_model_module_version": "1.5.0",
            "_view_count": null,
            "_view_module_version": "1.2.0",
            "_model_module": "@jupyter-widgets/controls"
          }
        },
        "3ab17a6138114839b93f05738f0180f2": {
          "model_module": "@jupyter-widgets/base",
          "model_name": "LayoutModel",
          "state": {
            "_view_name": "LayoutView",
            "grid_template_rows": null,
            "right": null,
            "justify_content": null,
            "_view_module": "@jupyter-widgets/base",
            "overflow": null,
            "_model_module_version": "1.2.0",
            "_view_count": null,
            "flex_flow": null,
            "width": null,
            "min_width": null,
            "border": null,
            "align_items": null,
            "bottom": null,
            "_model_module": "@jupyter-widgets/base",
            "top": null,
            "grid_column": null,
            "overflow_y": null,
            "overflow_x": null,
            "grid_auto_flow": null,
            "grid_area": null,
            "grid_template_columns": null,
            "flex": null,
            "_model_name": "LayoutModel",
            "justify_items": null,
            "grid_row": null,
            "max_height": null,
            "align_content": null,
            "visibility": null,
            "align_self": null,
            "height": null,
            "min_height": null,
            "padding": null,
            "grid_auto_rows": null,
            "grid_gap": null,
            "max_width": null,
            "order": null,
            "_view_module_version": "1.2.0",
            "grid_template_areas": null,
            "object_position": null,
            "object_fit": null,
            "grid_auto_columns": null,
            "margin": null,
            "display": null,
            "left": null
          }
        }
      }
    }
  },
  "cells": [
    {
      "cell_type": "markdown",
      "metadata": {
        "id": "view-in-github",
        "colab_type": "text"
      },
      "source": [
        "<a href=\"https://colab.research.google.com/github/scaomath/wustl-math450/blob/main/Lectures/Math_450_Notebook_11_(Momentum).ipynb\" target=\"_parent\"><img src=\"https://colab.research.google.com/assets/colab-badge.svg\" alt=\"Open In Colab\"/></a>"
      ]
    },
    {
      "cell_type": "markdown",
      "metadata": {
        "id": "FWgIuaGfIBj2"
      },
      "source": [
        "# Coding lecture 11 of Math 450\n",
        "\n",
        "## Last couple of weeks\n",
        "- A complete pipeline of training a machine learning model\n",
        "- Validation\n",
        "\n",
        "## Today\n",
        "- Add momentum to the formula."
      ]
    },
    {
      "cell_type": "code",
      "metadata": {
        "id": "w9wNb-1mJ94C"
      },
      "source": [
        "import torch\n",
        "import numpy as np\n",
        "from torch import nn\n",
        "from torchvision import datasets, transforms\n",
        "from torch.utils.data import DataLoader, TensorDataset\n",
        "from torch.optim import Optimizer\n",
        "from tqdm.auto import tqdm\n",
        "import matplotlib.pyplot as plt\n",
        "import seaborn as sns\n",
        "sns.set_style(\"dark\")\n",
        "\n",
        "import warnings\n",
        "warnings.filterwarnings(\"ignore\")"
      ],
      "execution_count": 34,
      "outputs": []
    },
    {
      "cell_type": "code",
      "metadata": {
        "id": "OPSmTtOBKGiu"
      },
      "source": [
        "train = datasets.MNIST(root='./', \n",
        "                       train=True, \n",
        "                       download=True, \n",
        "                       transform = transforms.ToTensor());\n",
        "\n",
        "train_loader = DataLoader(train, batch_size=8) \n",
        "\n",
        "class MLP(nn.Module):\n",
        "    def __init__(self, \n",
        "                 input_size: int = 28*28,\n",
        "                 output_size: int = 10):\n",
        "        super(MLP, self).__init__() \n",
        "        self.linear0 = nn.Linear(input_size, 256)\n",
        "        self.activation = nn.ReLU()\n",
        "        self.linear1 = nn.Linear(256, output_size)\n",
        "        self.dropout = nn.Dropout(0.1) \n",
        "        # 10% of the weight does not get updated: dropout\n",
        "        \n",
        "    def forward(self, x): \n",
        "        x = x.view(x.size(0), -1) \n",
        "        x1 = self.linear0(x)\n",
        "        a1 = self.activation(x1)\n",
        "        output = self.linear1(a1)\n",
        "\n",
        "        return output"
      ],
      "execution_count": 35,
      "outputs": []
    },
    {
      "cell_type": "code",
      "metadata": {
        "id": "ikMGFZJgKYYP"
      },
      "source": [
        "class SGD(Optimizer):\n",
        "    \"\"\"\n",
        "      Implements the SGD with momentum simplified \n",
        "      from the torch official one for Math 450 WashU\n",
        "      \n",
        "      Args:\n",
        "          params (iterable): iterable of parameters to optimize or dicts defining\n",
        "              parameter groups\n",
        "          lr (float): learning rate\n",
        "          weight_decay (float, optional): weight decay (L2 penalty) (default: 0)\n",
        "          nesterov (bool, optional): whether to use Nesterov's momentum (default: False)\n",
        "      \n",
        "      For final project:\n",
        "          update a version with nesterov's momentum in it\n",
        "          \n",
        "      Example:\n",
        "          >>> optimizer = SGD(model.parameters(), lr=1e-2)\n",
        "          >>> optimizer.zero_grad()\n",
        "          >>> loss_fn(model(input), target).backward()\n",
        "          >>> optimizer.step()\n",
        "      \"\"\"\n",
        "\n",
        "    def __init__(self, params, lr=1e-3, \n",
        "                 momentum=0, # beta: momentum constant\n",
        "                 dampening=0, # a dampening constant for momentum\n",
        "                 weight_decay=0, # epsilon: weight decay constant\n",
        "                 nesterov=False,\n",
        "                 ):\n",
        "      defaults = dict(lr=lr, \n",
        "                      momentum=momentum, \n",
        "                      dampening=dampening,\n",
        "                      weight_decay=weight_decay,\n",
        "                      nesterov=nesterov,\n",
        "                      )\n",
        "      super(SGD, self).__init__(params, defaults)\n",
        "      \n",
        "\n",
        "    def step(self, closure=None):\n",
        "\n",
        "        for group in self.param_groups:\n",
        "            '''\n",
        "            self.param_groups: \n",
        "            dict that has every parameters of this optimizer\n",
        "            as well as the weights of the NN\n",
        "            '''\n",
        "\n",
        "            weight_decay = group['weight_decay']\n",
        "            momentum = group['momentum']\n",
        "            dampening = group['dampening']\n",
        "            nesterov = group['nesterov']\n",
        "\n",
        "            for p in group['params']:\n",
        "                '''\n",
        "                if SGD(model.parameters(), lr=learning_rate)\n",
        "                then group['params'] will be model.parameters()\n",
        "                '''\n",
        "                if p.grad is None:\n",
        "                    '''\n",
        "                    non-trainable layers\n",
        "                    frozen layers (fine-tuning for downstream tasks)\n",
        "                    '''\n",
        "                    continue\n",
        "\n",
        "                d_p = p.grad.data\n",
        "\n",
        "                if weight_decay != 0:\n",
        "                    d_p.add_(weight_decay, p.data)\n",
        "\n",
        "                if momentum != 0:\n",
        "                    '''\n",
        "                    self.state[p]: the current SGD parameters state\n",
        "                    for the NN's weights p\n",
        "                    dictionary containing momentum\n",
        "                    and other things\n",
        "                    '''\n",
        "                    param_state = self.state[p]\n",
        "                    if 'momentum_buffer' not in param_state:\n",
        "                        buffer = param_state['momentum_buffer'] \\\n",
        "                               = torch.zeros_like(p.data)\n",
        "                        buffer.mul_(momentum).add_(d_p)\n",
        "                    else:\n",
        "                        # update the buffer\n",
        "                        buffer = param_state['momentum_buffer']\n",
        "                        buffer.mul_(momentum).add_(1 - dampening, d_p)\n",
        "                    d_p = buffer\n",
        "\n",
        "                # w_{k+1} = w_k + v_{k+1}\n",
        "                p.data = p.data - group['lr']*d_p\n",
        "\n",
        "        return loss"
      ],
      "execution_count": null,
      "outputs": []
    },
    {
      "cell_type": "code",
      "metadata": {
        "colab": {
          "base_uri": "https://localhost:8080/"
        },
        "id": "5ZTo5pEmblhc",
        "outputId": "c6d9e78e-2a4d-4eff-bc9e-752d95bb9580"
      },
      "source": [
        "# add_\n",
        "a = torch.tensor([2.0])\n",
        "b = torch.tensor([3.0])\n",
        "torch.add(a, b)"
      ],
      "execution_count": 36,
      "outputs": [
        {
          "output_type": "execute_result",
          "data": {
            "text/plain": [
              "tensor([5.])"
            ]
          },
          "metadata": {
            "tags": []
          },
          "execution_count": 36
        }
      ]
    },
    {
      "cell_type": "code",
      "metadata": {
        "colab": {
          "base_uri": "https://localhost:8080/"
        },
        "id": "riTKFAembwLe",
        "outputId": "d6b52f5d-fb2a-4a0a-cc52-2e3540dcde2d"
      },
      "source": [
        "a.add(b)\n",
        "print(a.add(b))\n",
        "print(a)"
      ],
      "execution_count": 39,
      "outputs": [
        {
          "output_type": "stream",
          "text": [
            "tensor([5.])\n",
            "tensor([2.])\n"
          ],
          "name": "stdout"
        }
      ]
    },
    {
      "cell_type": "code",
      "metadata": {
        "colab": {
          "base_uri": "https://localhost:8080/"
        },
        "id": "qtO7lBdmb-x4",
        "outputId": "f6cff1a7-2f28-41c8-9d26-188eb722bede"
      },
      "source": [
        "torch.add(a, b, alpha=5) # a + b*5"
      ],
      "execution_count": 41,
      "outputs": [
        {
          "output_type": "execute_result",
          "data": {
            "text/plain": [
              "tensor([17.])"
            ]
          },
          "metadata": {
            "tags": []
          },
          "execution_count": 41
        }
      ]
    },
    {
      "cell_type": "code",
      "metadata": {
        "colab": {
          "base_uri": "https://localhost:8080/"
        },
        "id": "2z9hSvH2cMPo",
        "outputId": "91779ff1-3c7a-4b98-9678-8fd5c663538a"
      },
      "source": [
        "a.add_(b, alpha=5)"
      ],
      "execution_count": 43,
      "outputs": [
        {
          "output_type": "execute_result",
          "data": {
            "text/plain": [
              "tensor([17.])"
            ]
          },
          "metadata": {
            "tags": []
          },
          "execution_count": 43
        }
      ]
    },
    {
      "cell_type": "code",
      "metadata": {
        "colab": {
          "base_uri": "https://localhost:8080/"
        },
        "id": "-uwKKUescUUx",
        "outputId": "7f6c124f-3a68-4b24-bd27-72724779efc1"
      },
      "source": [
        "print(a)"
      ],
      "execution_count": 44,
      "outputs": [
        {
          "output_type": "stream",
          "text": [
            "tensor([17.])\n"
          ],
          "name": "stdout"
        }
      ]
    },
    {
      "cell_type": "code",
      "metadata": {
        "colab": {
          "base_uri": "https://localhost:8080/"
        },
        "id": "jd6MXlHqchzK",
        "outputId": "ab301f11-acb6-48c6-d974-bba05b4855e9"
      },
      "source": [
        "a.add_(5, b) # a <= a + 5*b"
      ],
      "execution_count": 46,
      "outputs": [
        {
          "output_type": "execute_result",
          "data": {
            "text/plain": [
              "tensor([32.])"
            ]
          },
          "metadata": {
            "tags": []
          },
          "execution_count": 46
        }
      ]
    },
    {
      "cell_type": "code",
      "metadata": {
        "id": "i3j055o9KtP2"
      },
      "source": [
        "model = MLP() # initialize the model\n",
        "loss_func = nn.CrossEntropyLoss() # set up the loss\n",
        "# crossentropyloss is for the case of a balanced classification problem\n",
        "epochs = 2\n",
        "learning_rate = 1e-3\n",
        "optimizer = SGD(model.parameters(), lr=learning_rate)"
      ],
      "execution_count": 47,
      "outputs": []
    },
    {
      "cell_type": "code",
      "metadata": {
        "id": "TGFev_UNL84b"
      },
      "source": [
        "from sklearn.model_selection import train_test_split"
      ],
      "execution_count": 48,
      "outputs": []
    },
    {
      "cell_type": "code",
      "metadata": {
        "id": "AMVlM4y4M-x8",
        "colab": {
          "base_uri": "https://localhost:8080/"
        },
        "outputId": "a850ae6d-9214-4f6d-c849-e9a9755a9860"
      },
      "source": [
        "X = train.data.float()[:10000]\n",
        "y = train.targets[:10000]\n",
        "print(X.size(), y.size())\n",
        "X_tr, X_val, y_tr, y_val = \\\n",
        "train_test_split(X, y, random_state=0, train_size=0.8)"
      ],
      "execution_count": 49,
      "outputs": [
        {
          "output_type": "stream",
          "text": [
            "torch.Size([10000, 28, 28]) torch.Size([10000])\n"
          ],
          "name": "stdout"
        }
      ]
    },
    {
      "cell_type": "code",
      "metadata": {
        "id": "Qi7KfZ3-YHUm"
      },
      "source": [
        "print(X_tr.size(), X_val.size())"
      ],
      "execution_count": null,
      "outputs": []
    },
    {
      "cell_type": "code",
      "metadata": {
        "id": "1HxCd_QpNWj5"
      },
      "source": [
        "train_set = TensorDataset(X_tr, y_tr)\n",
        "train_loader = DataLoader(train_set, batch_size=32)\n",
        "\n",
        "valid_set = TensorDataset(X_val, y_val)\n",
        "val_loader = DataLoader(valid_set, batch_size=32)"
      ],
      "execution_count": 50,
      "outputs": []
    },
    {
      "cell_type": "code",
      "metadata": {
        "id": "YojEUAzcYZEP",
        "colab": {
          "base_uri": "https://localhost:8080/",
          "height": 149,
          "referenced_widgets": [
            "1053e080ef054cb78fcad908db2fe2fe",
            "0f7df71c9b9344b794b4db937c924109",
            "21d38d1a8fa3406794e17b723888ef39",
            "0c72648862dc40b0954a8b59ccc42653",
            "4bafcebcac5846f9ac6779dfaee11873",
            "7b04cf20c98146698630d8ee5164b904",
            "f2adde4aa5f74821872ef7f2703ce10e",
            "e3a54f4fdc7348c9829e3755bb201798",
            "9f61027cec144a0f8ec8ee04763b7995",
            "4728a0f3c2c54946b03046cbdaf33073",
            "fcff31916ccf4c4c9e7542e410973e53",
            "123c656eaeed447c9c1d68eff8a483ce",
            "38080900ac214149b5145d9fc15ae9bc",
            "5a22aee35116407bae1fe521d33c75bd",
            "3694b5c54aea4db2968a33036e197085",
            "3ab17a6138114839b93f05738f0180f2"
          ]
        },
        "outputId": "cf57bbfd-70be-4ce2-a406-6f4ec1969511"
      },
      "source": [
        "# pipeline\n",
        "for epoch in range(epochs):\n",
        "    \n",
        "    model.train() # formalism, useful when we have dropout\n",
        "    \n",
        "    loss_vals = []\n",
        "    acc_on_valid = []\n",
        "    \n",
        "    with tqdm(total=len(train_loader)) as pbar: # progress bar\n",
        "      for data, targets in train_loader:\n",
        "        \n",
        "        # forward pass\n",
        "        outputs = model(data)\n",
        "        \n",
        "        # loss function\n",
        "        loss = loss_func(outputs, targets)\n",
        "        \n",
        "        # record loss function values .item()\n",
        "        loss_vals.append(loss.item())\n",
        "        \n",
        "        # clean the gradient from last iteration\n",
        "        # param.grad is not zero in last iteration\n",
        "        optimizer.zero_grad()\n",
        "        \n",
        "        # backprop\n",
        "        # autograd\n",
        "        loss.backward()\n",
        "        \n",
        "        # stochastic gradient descent\n",
        "        # no with torch.no_grad(): block, param operation is using .data\n",
        "        optimizer.step()\n",
        "        \n",
        "        # check accuracy (add validation here)\n",
        "        with torch.no_grad():\n",
        "           for x, y in val_loader:\n",
        "             # x: validation image\n",
        "             # y: validation target\n",
        "             yhat = model(x) # yhat is (n_batch, 10)\n",
        "             yhat = yhat.argmax(dim=-1) # yhat is (n_batch, )\n",
        "             acc = (yhat == y).float().mean()\n",
        "             acc_on_valid.append(acc)\n",
        "\n",
        "        # tqdm template\n",
        "        desc = f\"epoch: [{epoch+1}/{epochs}] loss: {np.mean(loss_vals):.2f}\"\n",
        "        pbar.set_description(desc)\n",
        "        pbar.update()\n",
        "    print(f\"accuracy on validation: {np.mean(acc_on_valid):.2f}\")"
      ],
      "execution_count": 51,
      "outputs": [
        {
          "output_type": "display_data",
          "data": {
            "application/vnd.jupyter.widget-view+json": {
              "model_id": "1053e080ef054cb78fcad908db2fe2fe",
              "version_minor": 0,
              "version_major": 2
            },
            "text/plain": [
              "HBox(children=(FloatProgress(value=0.0, max=250.0), HTML(value='')))"
            ]
          },
          "metadata": {
            "tags": []
          }
        },
        {
          "output_type": "stream",
          "text": [
            "\n",
            "accuracy on validation: 0.81\n"
          ],
          "name": "stdout"
        },
        {
          "output_type": "display_data",
          "data": {
            "application/vnd.jupyter.widget-view+json": {
              "model_id": "9f61027cec144a0f8ec8ee04763b7995",
              "version_minor": 0,
              "version_major": 2
            },
            "text/plain": [
              "HBox(children=(FloatProgress(value=0.0, max=250.0), HTML(value='')))"
            ]
          },
          "metadata": {
            "tags": []
          }
        },
        {
          "output_type": "stream",
          "text": [
            "\n",
            "accuracy on validation: 0.90\n"
          ],
          "name": "stdout"
        }
      ]
    },
    {
      "cell_type": "markdown",
      "metadata": {
        "id": "SG1MAtj2Q1JA"
      },
      "source": [
        "# Explicit gradient checking\n",
        "\n",
        "Element-wise loss function:\n",
        "$$f = 3a^3 - b^2$$"
      ]
    },
    {
      "cell_type": "code",
      "metadata": {
        "id": "WUjFHly0aN_3"
      },
      "source": [
        "a = torch.tensor([2., 3.], requires_grad=True)\n",
        "b = torch.tensor([6., 4.], requires_grad=True)\n",
        "\n",
        "f = (3*a**3 - b**2).mean()"
      ],
      "execution_count": 80,
      "outputs": []
    },
    {
      "cell_type": "code",
      "metadata": {
        "colab": {
          "base_uri": "https://localhost:8080/"
        },
        "id": "KubSf8XAe-gA",
        "outputId": "90cfc325-79c4-4eb9-8aca-4d2f2a9e6745"
      },
      "source": [
        "print(f)"
      ],
      "execution_count": 81,
      "outputs": [
        {
          "output_type": "stream",
          "text": [
            "tensor(26.5000, grad_fn=<MeanBackward0>)\n"
          ],
          "name": "stdout"
        }
      ]
    },
    {
      "cell_type": "code",
      "metadata": {
        "id": "fWehCH8xRloX"
      },
      "source": [
        "optimizer = SGD([a, b], lr=learning_rate, momentum=0)"
      ],
      "execution_count": 82,
      "outputs": []
    },
    {
      "cell_type": "code",
      "metadata": {
        "id": "gT19xDQvRooW"
      },
      "source": [
        "optimizer.zero_grad()\n",
        "f.backward()\n",
        "optimizer.step();"
      ],
      "execution_count": 83,
      "outputs": []
    },
    {
      "cell_type": "code",
      "metadata": {
        "colab": {
          "base_uri": "https://localhost:8080/"
        },
        "id": "BLHlylnFfQlJ",
        "outputId": "19c2b701-b882-461c-8ffd-dfad2635a966"
      },
      "source": [
        "for group in optimizer.param_groups:\n",
        "  for p in group['params']:\n",
        "    print(p)\n",
        "    print(optimizer.state[p])\n",
        "    # first step there when there is no momentum"
      ],
      "execution_count": 85,
      "outputs": [
        {
          "output_type": "stream",
          "text": [
            "tensor([1.9820, 2.9595], requires_grad=True)\n",
            "{}\n",
            "tensor([6.0060, 4.0040], requires_grad=True)\n",
            "{}\n"
          ],
          "name": "stdout"
        }
      ]
    },
    {
      "cell_type": "code",
      "metadata": {
        "id": "oPBMBqBxfSNV"
      },
      "source": [
        "a = torch.tensor([2., 3.], requires_grad=True)\n",
        "b = torch.tensor([6., 4.], requires_grad=True)\n",
        "\n",
        "f = (3*a**3 - b**2).mean()\n",
        "\n",
        "optimizer = SGD([a, b], lr=learning_rate, momentum=0.9)"
      ],
      "execution_count": 86,
      "outputs": []
    },
    {
      "cell_type": "code",
      "metadata": {
        "id": "DE50QCbjgXQ-"
      },
      "source": [
        "optimizer.zero_grad()\n",
        "f.backward(retain_graph=True)\n",
        "optimizer.step();"
      ],
      "execution_count": 87,
      "outputs": []
    },
    {
      "cell_type": "code",
      "metadata": {
        "colab": {
          "base_uri": "https://localhost:8080/"
        },
        "id": "yKLSqbKygXvI",
        "outputId": "3ffffa0a-44e6-480c-fb4d-4896c86dce46"
      },
      "source": [
        "# first iteration will be the same\n",
        "for group in optimizer.param_groups:\n",
        "  for p in group['params']:\n",
        "    print(p)\n",
        "    print(optimizer.state[p])\n",
        "    # first step there when there is no momentum\n",
        "    # the result is the same with GD\n",
        "    # but momentum buffer will be updated"
      ],
      "execution_count": 88,
      "outputs": [
        {
          "output_type": "stream",
          "text": [
            "tensor([1.9820, 2.9595], requires_grad=True)\n",
            "{'momentum_buffer': tensor([18.0000, 40.5000])}\n",
            "tensor([6.0060, 4.0040], requires_grad=True)\n",
            "{'momentum_buffer': tensor([-6., -4.])}\n"
          ],
          "name": "stdout"
        }
      ]
    },
    {
      "cell_type": "code",
      "metadata": {
        "colab": {
          "base_uri": "https://localhost:8080/"
        },
        "id": "uak2bfUEguHm",
        "outputId": "aab32e78-5059-42b6-e906-4e144604778b"
      },
      "source": [
        "print(a)\n",
        "print(b)"
      ],
      "execution_count": 89,
      "outputs": [
        {
          "output_type": "stream",
          "text": [
            "tensor([1.9820, 2.9595], requires_grad=True)\n",
            "tensor([6.0060, 4.0040], requires_grad=True)\n"
          ],
          "name": "stdout"
        }
      ]
    },
    {
      "cell_type": "code",
      "metadata": {
        "id": "SfO4w328gyQs"
      },
      "source": [
        "# now we step again\n",
        "f = (3*a**3 - b**2).mean()\n",
        "optimizer.zero_grad()\n",
        "f.backward(retain_graph=True)\n",
        "optimizer.step();"
      ],
      "execution_count": 90,
      "outputs": []
    },
    {
      "cell_type": "code",
      "metadata": {
        "colab": {
          "base_uri": "https://localhost:8080/"
        },
        "id": "MTQH7Vd-g3pH",
        "outputId": "5271d733-707c-43e5-ab21-1d98c6d695fb"
      },
      "source": [
        "for group in optimizer.param_groups:\n",
        "  for p in group['params']:\n",
        "    print(p)\n",
        "    print(optimizer.state[p])\n",
        "\n",
        "# the result will be different from GD\n",
        "# and we can verify by hand that the momentum computation is good"
      ],
      "execution_count": 91,
      "outputs": [
        {
          "output_type": "stream",
          "text": [
            "tensor([1.9481, 2.8836], requires_grad=True)\n",
            "{'momentum_buffer': tensor([33.8775, 75.8639])}\n",
            "tensor([6.0174, 4.0116], requires_grad=True)\n",
            "{'momentum_buffer': tensor([-11.4060,  -7.6040])}\n"
          ],
          "name": "stdout"
        }
      ]
    }
  ]
}